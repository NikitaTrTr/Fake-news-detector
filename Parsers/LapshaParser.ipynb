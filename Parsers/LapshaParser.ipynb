{
 "cells": [
  {
   "cell_type": "code",
   "execution_count": 104,
   "id": "4d7272a6",
   "metadata": {},
   "outputs": [],
   "source": [
    "import requests\n",
    "from bs4 import BeautifulSoup\n",
    "import pandas as pd\n",
    "from fake_useragent import UserAgent\n",
    "from selenium import webdriver\n",
    "from selenium.webdriver.common.by import By\n",
    "import time\n",
    "from tqdm import tqdm"
   ]
  },
  {
   "cell_type": "code",
   "execution_count": null,
   "id": "542fea08",
   "metadata": {},
   "outputs": [],
   "source": [
    "driver = webdriver.Firefox()\n",
    "ref = 'https://lapsha.media/novoe/'\n",
    "driver.get(ref)\n",
    "time.sleep(30)\n",
    "button = driver.find_element(By.CLASS_NAME, 'closebanner')\n",
    "button.click()\n",
    "time.sleep(0.5)\n",
    "button = driver.find_element(By.CLASS_NAME, 'cn-buttons-container')\n",
    "button.click()\n",
    "time.sleep(0.5)\n",
    "for _ in range(1000):\n",
    "    time.sleep(0.5)\n",
    "    button = driver.find_element(By.CLASS_NAME, 'lenta-loader')\n",
    "    button.click()\n",
    "# пока что падает с ошибкой после нескольких минут прокрутки страницы, но работу свою делает"
   ]
  },
  {
   "cell_type": "code",
   "execution_count": 41,
   "id": "1b9ef416",
   "metadata": {},
   "outputs": [],
   "source": [
    "tree = BeautifulSoup(driver.page_source, 'html.parser')"
   ]
  },
  {
   "cell_type": "code",
   "execution_count": 43,
   "id": "f06c297c",
   "metadata": {},
   "outputs": [],
   "source": [
    "lenta = tree.find('div',{'class':'lenta'})"
   ]
  },
  {
   "cell_type": "code",
   "execution_count": 60,
   "id": "60d6eea4",
   "metadata": {},
   "outputs": [],
   "source": [
    "links_to_articles = []\n",
    "for post in lenta:\n",
    "    if post.find('a', {'class': 'postblock-title__tag'}).text == 'Фейки':\n",
    "        link = post.find('meta').get('content')\n",
    "        links_to_articles.append(link)"
   ]
  },
  {
   "cell_type": "code",
   "execution_count": 66,
   "id": "acbf498e",
   "metadata": {},
   "outputs": [
    {
     "data": {
      "text/plain": [
       "['https://lapsha.media/feiky/v-seti-pojavilis-kadry-obrushenija-paninskogo-mosta-v-smolenskoj-oblasti/',\n",
       " 'https://lapsha.media/feiky/transljaciju-kanala-rossija-1-v-rjazani-vzlomali/',\n",
       " 'https://lapsha.media/feiky/shkolnikov-budut-otpravljat-v-zonu-svo-vmesto-letnih-kanikul/',\n",
       " 'https://lapsha.media/feiky/ramzan-kadyrov-trebuet-uluchshit-uslovija-soderzhanija-terroristov-iz-krokusa/',\n",
       " 'https://lapsha.media/feiky/rossijane-mogut-ne-platit-za-uslugi-zhkh/',\n",
       " 'https://lapsha.media/feiky/detej-tajno-vakcinirujut-s-pomoshhju-kapel-grippferon/',\n",
       " 'https://lapsha.media/feiky/v-stavropole-testirujut-sistemu-opoveshhenija-iz-za-massovoj-ataki-dronov/',\n",
       " 'https://lapsha.media/feiky/v-mchs-predupredili-o-sbrose-vody-na-juzhnouralsk-nochju-7-aprelja/',\n",
       " 'https://lapsha.media/feiky/rossija-planiruet-napadenie-na-kazahstan/',\n",
       " 'https://lapsha.media/feiky/it-specialisty-massovo-pokidajut-rossiju/']"
      ]
     },
     "execution_count": 66,
     "metadata": {},
     "output_type": "execute_result"
    }
   ],
   "source": [
    "links_to_articles[:10]"
   ]
  },
  {
   "cell_type": "code",
   "execution_count": 62,
   "id": "2c27e4f2",
   "metadata": {},
   "outputs": [
    {
     "data": {
      "text/plain": [
       "3565"
      ]
     },
     "execution_count": 62,
     "metadata": {},
     "output_type": "execute_result"
    }
   ],
   "source": [
    "len(links_to_articles)"
   ]
  },
  {
   "cell_type": "code",
   "execution_count": 101,
   "id": "949a91ae",
   "metadata": {},
   "outputs": [],
   "source": [
    "def get_article_text(url):\n",
    "    response = requests.get(url, headers={'User-Agent': UserAgent().chrome})\n",
    "    tree = BeautifulSoup(response.content, 'html.parser')\n",
    "    title = tree.find('h1').text\n",
    "    body = tree.find('div', {'class': 'bialty-container'})\n",
    "    text = [title]\n",
    "    for p in body:\n",
    "        if 'Как на самом деле' in p.text:\n",
    "            break\n",
    "        text.append(p.text)\n",
    "    return ' '.join(text)"
   ]
  },
  {
   "cell_type": "code",
   "execution_count": 102,
   "id": "3691400a",
   "metadata": {},
   "outputs": [],
   "source": [
    "text = get_article_text('https://lapsha.media/feiky/v-seti-pojavilis-kadry-obrushenija-paninskogo-mosta-v-smolenskoj-oblasti/')"
   ]
  },
  {
   "cell_type": "code",
   "execution_count": 103,
   "id": "feb38850",
   "metadata": {},
   "outputs": [
    {
     "data": {
      "text/plain": [
       "'В сети появились кадры обрушения Панинского моста в Смоленской области В сети распространяют фейковое видео обрушения моста в Смоленской области.  Публикации с роликом преимущественно распространялись в украинских каналах. https://lapsha.media/wp-content/uploads/2024/04/2024-04-08-19.12.14.mp4'"
      ]
     },
     "execution_count": 103,
     "metadata": {},
     "output_type": "execute_result"
    }
   ],
   "source": [
    "text"
   ]
  },
  {
   "cell_type": "code",
   "execution_count": 106,
   "id": "79e68efc",
   "metadata": {},
   "outputs": [
    {
     "name": "stderr",
     "output_type": "stream",
     "text": [
      "100%|██████████████████████████████████████████████████████████████████████████████| 3565/3565 [55:52<00:00,  1.06it/s]\n"
     ]
    }
   ],
   "source": [
    "df = pd.DataFrame(columns = ['text'])\n",
    "for link in tqdm(links_to_articles):\n",
    "    df.loc[len(df)] = get_article_text(link)"
   ]
  },
  {
   "cell_type": "code",
   "execution_count": 108,
   "id": "d5860e93",
   "metadata": {},
   "outputs": [],
   "source": [
    "df.to_csv('lapsha.csv', index = False)"
   ]
  },
  {
   "cell_type": "code",
   "execution_count": 119,
   "id": "626032cb",
   "metadata": {},
   "outputs": [
    {
     "data": {
      "text/html": [
       "<div>\n",
       "<style scoped>\n",
       "    .dataframe tbody tr th:only-of-type {\n",
       "        vertical-align: middle;\n",
       "    }\n",
       "\n",
       "    .dataframe tbody tr th {\n",
       "        vertical-align: top;\n",
       "    }\n",
       "\n",
       "    .dataframe thead th {\n",
       "        text-align: right;\n",
       "    }\n",
       "</style>\n",
       "<table border=\"1\" class=\"dataframe\">\n",
       "  <thead>\n",
       "    <tr style=\"text-align: right;\">\n",
       "      <th></th>\n",
       "      <th>text</th>\n",
       "    </tr>\n",
       "  </thead>\n",
       "  <tbody>\n",
       "    <tr>\n",
       "      <th>0</th>\n",
       "      <td>В сети появились кадры обрушения Панинского мо...</td>\n",
       "    </tr>\n",
       "    <tr>\n",
       "      <th>1</th>\n",
       "      <td>Трансляцию канала «Россия 1» в Рязани взломали...</td>\n",
       "    </tr>\n",
       "    <tr>\n",
       "      <th>2</th>\n",
       "      <td>Школьников будут отправлять в зону СВО вместо ...</td>\n",
       "    </tr>\n",
       "    <tr>\n",
       "      <th>3</th>\n",
       "      <td>Рамзан Кадыров требует улучшить условия содерж...</td>\n",
       "    </tr>\n",
       "    <tr>\n",
       "      <th>4</th>\n",
       "      <td>Россияне могут не платить за услуги ЖКХ В сети...</td>\n",
       "    </tr>\n",
       "    <tr>\n",
       "      <th>...</th>\n",
       "      <td>...</td>\n",
       "    </tr>\n",
       "    <tr>\n",
       "      <th>3560</th>\n",
       "      <td>Сибирский лес отдали китайцам в аренду С чего ...</td>\n",
       "    </tr>\n",
       "    <tr>\n",
       "      <th>3561</th>\n",
       "      <td>В таблетках парацетамола содержится смертельны...</td>\n",
       "    </tr>\n",
       "    <tr>\n",
       "      <th>3562</th>\n",
       "      <td>В воду будут добавлять антибиотики С чего все ...</td>\n",
       "    </tr>\n",
       "    <tr>\n",
       "      <th>3563</th>\n",
       "      <td>В Томской области захоронят тысячу тонн радиоа...</td>\n",
       "    </tr>\n",
       "    <tr>\n",
       "      <th>3564</th>\n",
       "      <td>Россиянам поднимут плату за капремонт С чего в...</td>\n",
       "    </tr>\n",
       "  </tbody>\n",
       "</table>\n",
       "<p>3565 rows × 1 columns</p>\n",
       "</div>"
      ],
      "text/plain": [
       "                                                   text\n",
       "0     В сети появились кадры обрушения Панинского мо...\n",
       "1     Трансляцию канала «Россия 1» в Рязани взломали...\n",
       "2     Школьников будут отправлять в зону СВО вместо ...\n",
       "3     Рамзан Кадыров требует улучшить условия содерж...\n",
       "4     Россияне могут не платить за услуги ЖКХ В сети...\n",
       "...                                                 ...\n",
       "3560  Сибирский лес отдали китайцам в аренду С чего ...\n",
       "3561  В таблетках парацетамола содержится смертельны...\n",
       "3562  В воду будут добавлять антибиотики С чего все ...\n",
       "3563  В Томской области захоронят тысячу тонн радиоа...\n",
       "3564  Россиянам поднимут плату за капремонт С чего в...\n",
       "\n",
       "[3565 rows x 1 columns]"
      ]
     },
     "execution_count": 119,
     "metadata": {},
     "output_type": "execute_result"
    }
   ],
   "source": [
    "df"
   ]
  },
  {
   "cell_type": "code",
   "execution_count": null,
   "id": "7c853ca6",
   "metadata": {},
   "outputs": [],
   "source": []
  }
 ],
 "metadata": {
  "kernelspec": {
   "display_name": "Python 3 (ipykernel)",
   "language": "python",
   "name": "python3"
  },
  "language_info": {
   "codemirror_mode": {
    "name": "ipython",
    "version": 3
   },
   "file_extension": ".py",
   "mimetype": "text/x-python",
   "name": "python",
   "nbconvert_exporter": "python",
   "pygments_lexer": "ipython3",
   "version": "3.11.5"
  }
 },
 "nbformat": 4,
 "nbformat_minor": 5
}
